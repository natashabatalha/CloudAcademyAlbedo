{
 "cells": [
  {
   "cell_type": "markdown",
   "metadata": {},
   "source": [
    "## Getting Started \n",
    "\n",
    "Before you open this make sure you have completed the following: \n",
    "\n",
    "    1) Downloaded the two zip files freedman.zip, and opacities.zip and placed them in directory `AlbedoCode/`\n",
    "    https://drive.google.com/drive/folders/1Helb2qJ1s_lJUIAJbZKhuUSnY8BHT_hD?usp=sharing\n",
    "\n",
    "    2) Successfully compiled the fortran code by entering `make` in `cd AlbedoCode`\n",
    "\n",
    "After you've done those things you are ready to start playing around with some models"
   ]
  },
  {
   "cell_type": "code",
   "execution_count": null,
   "metadata": {},
   "outputs": [],
   "source": [
    "import run \n",
    "import os\n",
    "import pandas as pd\n",
    "#plotting stuff (feel free to use your own)\n",
    "from bokeh.plotting import figure, show \n",
    "from bokeh.io import output_notebook \n",
    "from bokeh.palettes import inferno\n",
    "output_notebook()"
   ]
  },
  {
   "cell_type": "markdown",
   "metadata": {},
   "source": [
    "## Let's do something familiar first: Jupiter"
   ]
  },
  {
   "cell_type": "code",
   "execution_count": null,
   "metadata": {
    "collapsed": true
   },
   "outputs": [],
   "source": [
    "#cloud free first\n",
    "output_path='ModelOutputs/'\n",
    "name = 'jupiter_nocloud'\n",
    "run.jupiter(do_clouds = False,output_path=output_path , name = name) "
   ]
  },
  {
   "cell_type": "code",
   "execution_count": null,
   "metadata": {
    "collapsed": true
   },
   "outputs": [],
   "source": [
    "#see output \n",
    "fig = figure(y_axis_label='Albedo', x_axis_label='Wavelength[micron]', title=name)\n",
    "models=sorted([i for i in os.listdir(output_path) if name in i])[::-1][:-1]\n",
    "for i ,c in zip(models,inferno(len(models))) :\n",
    "    if name not in i: continue #skip other models in there\n",
    "    alb = pd.read_csv(os.path.join(output_path, i))\n",
    "    fig.line(alb['WAVELN'],alb['GEOMALB'], line_width=3, legend='Phase='+i[i.find('_')+1:i.find('.')], color=c)\n",
    "fig.legend.location='top_right'\n",
    "show(fig)"
   ]
  },
  {
   "cell_type": "markdown",
   "metadata": {},
   "source": [
    "### Add clouds to jupiter"
   ]
  },
  {
   "cell_type": "code",
   "execution_count": null,
   "metadata": {
    "collapsed": true
   },
   "outputs": [],
   "source": [
    "#can also play around with clouds \n",
    "name = 'cloudy'\n",
    "run.jupiter(do_clouds = True,fsed=6, output_path=output_path ,name=name) #fsed options include : 6, 3 , 1 "
   ]
  },
  {
   "cell_type": "code",
   "execution_count": null,
   "metadata": {
    "collapsed": true
   },
   "outputs": [],
   "source": [
    "#see output \n",
    "fig = figure(y_axis_label='Albedo', x_axis_label='Wavelength[micron]', title=name)\n",
    "models=sorted([i for i in os.listdir(output_path) if name in i])[::-1][:-1]\n",
    "for i ,c in zip(models,inferno(len(models))) :\n",
    "    if name not in i: continue #skip other models in there\n",
    "    alb = pd.read_csv(os.path.join(output_path, i))\n",
    "    fig.line(alb['WAVELN'],alb['GEOMALB'], line_width=3, legend='Phase='+i[i.find('_')+1:i.find('.')], color=c)\n",
    "fig.legend.location='top_right'\n",
    "show(fig)"
   ]
  },
  {
   "cell_type": "markdown",
   "metadata": {},
   "source": [
    "## Now let's take C. Helling model outputs"
   ]
  },
  {
   "cell_type": "markdown",
   "metadata": {},
   "source": [
    "### Define Inputs: \n",
    "This wrapper is designed to take C. Helling's inputs and convert them to the inputs we need for the Albedo code. \n",
    "\n"
   ]
  },
  {
   "cell_type": "code",
   "execution_count": null,
   "metadata": {
    "collapsed": true
   },
   "outputs": [],
   "source": [
    "#Where are your results from static_weather? \n",
    "input_dir = 'CH_InputFiles/'\n",
    "three_chem_files = [os.path.join(input_dir, i) for i in ['out3_chem1.dat','out3_chem2.dat', 'out3_chem3.dat' ]]\n",
    "\n",
    "#If you are running a cloudy case you should specify the extinction file and scattering albedo here\n",
    "extinction_file = os.path.join(input_dir,'out3_extinction.dat')#If clear: extinction_file=None\n",
    "albedo_file = os.path.join(input_dir, 'out3_albedo.dat')  #If clear: albedo_file=None\n",
    "\n",
    "gravity = 10.0 # define gravity of the planet m/s2\n",
    "\n",
    "name = 'MyFirstTestCase' #Your files will be renamed this with the extension: _PhaseAngle.dat\n",
    "output_path='ModelOutputs/'"
   ]
  },
  {
   "cell_type": "markdown",
   "metadata": {},
   "source": [
    "### Run the Albedo Code \n",
    "\n",
    "This will take a little bit to run, as it's set up to run 11 phase angles. You should see some files start to pile up in AlbedoCode/run. We will look into those in the next step "
   ]
  },
  {
   "cell_type": "code",
   "execution_count": null,
   "metadata": {},
   "outputs": [],
   "source": [
    "do_clouds = True\n",
    "run.run_albedo(do_clouds, three_chem_files, extinction_file, albedo_file, gravity, name, output_path)"
   ]
  },
  {
   "cell_type": "markdown",
   "metadata": {},
   "source": [
    "## Analyze\n",
    "Feel free to use your favorite plotting functions here: everything you need is in what you specified as output_path"
   ]
  },
  {
   "cell_type": "code",
   "execution_count": null,
   "metadata": {
    "collapsed": true
   },
   "outputs": [],
   "source": [
    "fig = figure(y_axis_label='Albedo', x_axis_label='Wavelength[micron]')\n",
    "models=sorted([i for i in os.listdir(output_path) if name in i])[::-1][:-1]\n",
    "for i ,c in zip(models,inferno(len(models))) :\n",
    "    if name not in i: continue #skip other models in there\n",
    "    alb = pd.read_csv(os.path.join(output_path, i))\n",
    "    fig.line(alb['WAVELN'],alb['GEOMALB'], line_width=3, legend='Phase='+i[i.find('_')+1:i.find('.')], color=c)\n",
    "fig.legend.location='top_right'\n",
    "show(fig)"
   ]
  },
  {
   "cell_type": "markdown",
   "metadata": {
    "collapsed": true
   },
   "source": [
    "## Now let's play around with scaling the total extinction "
   ]
  },
  {
   "cell_type": "code",
   "execution_count": null,
   "metadata": {
    "collapsed": true
   },
   "outputs": [],
   "source": [
    "name = 'scaled_opacity'\n",
    "scale_ext = 0.01 #decrease opacity or increase. This will do new_extinction = scale_ext * old_extinction\n",
    "run.run_albedo(do_clouds, three_chem_files, extinction_file, albedo_file, gravity, name, output_path, scale_ext=scale_ext)\n",
    "#plot \n",
    "fig = figure(y_axis_label='Albedo', x_axis_label='Wavelength[micron]')\n",
    "models=sorted([i for i in os.listdir(output_path) if name in i])[::-1][:-1]\n",
    "for i ,c in zip(models,inferno(len(models))) :\n",
    "    if name not in i: continue #skip other models in there\n",
    "    alb = pd.read_csv(os.path.join(output_path, i))\n",
    "    fig.line(alb['WAVELN'],alb['GEOMALB'], line_width=3, legend='Phase='+i[i.find('_')+1:i.find('.')], color=c)\n",
    "fig.legend.location='top_right'\n",
    "show(fig)"
   ]
  },
  {
   "cell_type": "code",
   "execution_count": null,
   "metadata": {
    "collapsed": true
   },
   "outputs": [],
   "source": []
  }
 ],
 "metadata": {
  "kernelspec": {
   "display_name": "Python 3",
   "language": "python",
   "name": "python3"
  },
  "language_info": {
   "codemirror_mode": {
    "name": "ipython",
    "version": 3
   },
   "file_extension": ".py",
   "mimetype": "text/x-python",
   "name": "python",
   "nbconvert_exporter": "python",
   "pygments_lexer": "ipython3",
   "version": "3.6.6"
  }
 },
 "nbformat": 4,
 "nbformat_minor": 2
}
